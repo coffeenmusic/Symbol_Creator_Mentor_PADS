{
 "cells": [
  {
   "cell_type": "code",
   "execution_count": 1,
   "metadata": {},
   "outputs": [],
   "source": [
    "import os\n",
    "import datetime\n",
    "import helper as hp\n",
    "from helper import Box, GFX, Font, Pin, Property, PinName, mils_to_units"
   ]
  },
  {
   "cell_type": "code",
   "execution_count": 2,
   "metadata": {},
   "outputs": [],
   "source": [
    "out_dir = 'Created'\n",
    "symbol_name = 'test_symbol'\n",
    "\n",
    "# Defaults\n",
    "symbol_type = 'Module'"
   ]
  },
  {
   "cell_type": "code",
   "execution_count": 3,
   "metadata": {},
   "outputs": [],
   "source": [
    "f = open(os.path.join(out_dir, symbol_name) + '.1', 'w')"
   ]
  },
  {
   "cell_type": "code",
   "execution_count": 4,
   "metadata": {},
   "outputs": [],
   "source": [
    "def create_main_hdr(f):\n",
    "    hdr = ['V 54']\n",
    "    hdr += ['K 33671749690 new_symbol']\n",
    "    hdr += ['F Case']\n",
    "    hdr += ['|R ' + datetime.datetime.now().strftime('%H:%M:%S_%m-%d-%y')]\n",
    "    hdr += ['|BORDERTYPESUPPORT']\n",
    "    hdr += ['Y ' + str(hp.symtype_to_idx[symbol_type])]\n",
    "    hdr += ['D 0 0 2540000 2540000', 'Z 10', 'i 3', '|I 6']\n",
    "\n",
    "    write_str_list(f, hdr)\n",
    "\n",
    "def write_str_list(f, str_list):\n",
    "    for s in str_list:\n",
    "        f.write(s)\n",
    "        f.write('\\n')\n",
    "        \n",
    "def add_pin(f, pid, x, y, side, inv, num, label, pin_type):\n",
    "    str_list = []\n",
    "    \n",
    "    pin = Pin()\n",
    "    pin.simple_pin(pid, x, y, side, inv, pin_type, label, num)\n",
    "    str_list += [pin.get_str()]\n",
    "        \n",
    "    str_list += [pin.Name.get_str()]\n",
    "    str_list += [Font().create_str('Sans Serif', 'Dark Blue')]\n",
    "    \n",
    "    str_list += [pin.get_pintype_str()]\n",
    "    \n",
    "    str_list += [pin.Number.get_str()]\n",
    "    str_list += [Font().create_str('Sans Serif', 'Automatic')]\n",
    "    \n",
    "    write_str_list(f, str_list)    \n",
    "\n",
    "def add_font(f, font, color):\n",
    "    vals = [Font().create_str(font, color)]\n",
    "    write_str_list(f, vals)\n",
    "\n",
    "def add_graphics(hdr, color, fill_style, line_style, w):\n",
    "    color = hp.color_to_int(color)\n",
    "    vals = [GFX().create_str(hdr, color, color, fill_style, line_style, 1)]\n",
    "    write_str_list(f, vals)\n",
    "\n",
    "def add_box(f, x, y, w, h):\n",
    "    x2 = x + w\n",
    "    y2 = y + h\n",
    "    vals = [Box().create_str(mils_to_units(x), mils_to_units(y), mils_to_units(x2), mils_to_units(y2))]\n",
    "    write_str_list(f, vals)\n",
    "    \n",
    "    add_graphics('|GRPHSTL_EXT01', 'Blue', 'Hollow', 'Solid', 1)"
   ]
  },
  {
   "cell_type": "code",
   "execution_count": 5,
   "metadata": {},
   "outputs": [],
   "source": [
    "create_main_hdr(f)\n",
    "add_pin(f, 1, 0, 0, 'Left', False, 48, 'RESET', 'OUT')\n",
    "add_box(f, 300, -100, 1200, 2500)\n",
    "f.write('E')\n",
    "f.close()"
   ]
  },
  {
   "cell_type": "code",
   "execution_count": null,
   "metadata": {},
   "outputs": [],
   "source": []
  }
 ],
 "metadata": {
  "kernelspec": {
   "display_name": "Python 3",
   "language": "python",
   "name": "python3"
  },
  "language_info": {
   "codemirror_mode": {
    "name": "ipython",
    "version": 3
   },
   "file_extension": ".py",
   "mimetype": "text/x-python",
   "name": "python",
   "nbconvert_exporter": "python",
   "pygments_lexer": "ipython3",
   "version": "3.6.9"
  }
 },
 "nbformat": 4,
 "nbformat_minor": 2
}
