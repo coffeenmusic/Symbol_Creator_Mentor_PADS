{
 "cells": [
  {
   "cell_type": "code",
   "execution_count": 6,
   "metadata": {},
   "outputs": [],
   "source": [
    "import pandas as pd\n",
    "import os\n",
    "\n",
    "sym_dir = 'Symbols'\n",
    "sym_files = [os.path.join(sym_dir, f) for f in os.listdir(sym_dir)]"
   ]
  },
  {
   "cell_type": "code",
   "execution_count": 578,
   "metadata": {},
   "outputs": [],
   "source": [
    "class Property:\n",
    "    idx = {'x': 1, 'y': 2, 'size': 3, 'rotation': 4, 'justification': 5, 'visible': 6, 'value': 7}\n",
    "    just_dict = {1: 'Upper Left', 2: 'Middle Left', 3: 'Lower Left', 4: 'Upper Center', 5: 'Middle Center', 6: 'Lower Center', 7: 'Upper Right', 8: 'Middle Right', 9: 'Lower Right'}\n",
    "    rotation_dict = {0: '0', 1: '90', 2: '180', 3: '270'}\n",
    "    vis_dict = {0: 'Hidden', 2: 'Hidden-wProperty', 3: 'Visible', 4: 'Visible-wProperty'}\n",
    "    \n",
    "    def __init__(self, line_str, identifier):\n",
    "        vals = line_str.split()\n",
    "        \n",
    "        self.x = int(vals[self.idx['x']])\n",
    "        self.y = int(vals[self.idx['y']])\n",
    "        self.size = int(vals[self.idx['size']])\n",
    "        self.rotation = self.rotation_dict[int(vals[self.idx['rotation']])]\n",
    "        self.justification = self.just_dict[int(vals[self.idx['justification']])]\n",
    "        self.visible = self.vis_dict[int(vals[self.idx['visible']])]\n",
    "        self.value = ' '.join(vals[self.idx['value']:])[len(identifier):] # Account for spaces in property value\n",
    "        self.property = identifier.split('=')[0]"
   ]
  },
  {
   "cell_type": "code",
   "execution_count": 579,
   "metadata": {},
   "outputs": [],
   "source": [
    "class PinType(Property):\n",
    "    def __init__(self, line_str):\n",
    "        super().__init__(line_str, 'PINTYPE=')\n",
    "        \n",
    "class PinNumber(Property):\n",
    "    def __init__(self, line_str):\n",
    "        super().__init__(line_str, '#=')"
   ]
  },
  {
   "cell_type": "code",
   "execution_count": 580,
   "metadata": {},
   "outputs": [],
   "source": [
    "class PinName(Property):\n",
    "    idx = {'x': 1, 'y': 2, 'size': 3, 'rotation': 4, 'justification': 5, 'visible': 7, 'value': 9} # Line row values to string index\n",
    "    vis_dict = {0: 'Hidden', 1: 'Visible'}\n",
    "    \n",
    "    def __init__(self, line_str):\n",
    "        super().__init__(line_str, '')"
   ]
  },
  {
   "cell_type": "code",
   "execution_count": 608,
   "metadata": {},
   "outputs": [],
   "source": [
    "class Box:\n",
    "    idx = {'x1': 1, 'y1': 2, 'x2': 3, 'y2': 4}\n",
    "    def __init__(self, line_str):\n",
    "        vals = line_str.split()\n",
    "        self.x1 = vals[self.idx['x1']]\n",
    "        self.x2 = vals[self.idx['x2']]\n",
    "        self.y1 = vals[self.idx['y1']]\n",
    "        self.y2 = vals[self.idx['y2']]"
   ]
  },
  {
   "cell_type": "code",
   "execution_count": 581,
   "metadata": {},
   "outputs": [],
   "source": [
    "class Pin:\n",
    "    idx = {'id': 1, 'x1': 2, 'y1': 3, 'x2': 4, 'y2': 5, 'side': 7, 'inverted': 8} # Pin row to string index\n",
    "    side_dict = {0: 'Top', 1: 'Bottom', 2: 'Left', 3: 'Right'}\n",
    "    \n",
    "    def __init__(self, line_str):\n",
    "        vals = line_str.split()\n",
    "        \n",
    "        self.pid = vals[self.idx['id']]\n",
    "        self.set_line_pos(vals[self.idx['x1']], vals[self.idx['x2']], vals[self.idx['y1']], vals[self.idx['y2']])\n",
    "        self.side = self.side_dict[int(vals[self.idx['side']])]\n",
    "        self.inverted = bool(int(vals[self.idx['inverted']]))\n",
    "    \n",
    "    # number: PinNumber Object\n",
    "    def set_number(self, number):\n",
    "        self.Number = number\n",
    "    \n",
    "    # ptype: PinType Object\n",
    "    def set_type(self, ptype):\n",
    "        self.Type = ptype\n",
    "        \n",
    "    def set_line_pos(self, x1, x2, y1, y2):\n",
    "        self.line_pos = (int(x1), int(x2), int(y1), int(y2))\n",
    "        \n",
    "    # name: PinName Object\n",
    "    def set_name(self, name):\n",
    "        self.Name = name"
   ]
  },
  {
   "cell_type": "code",
   "execution_count": 582,
   "metadata": {},
   "outputs": [],
   "source": [
    "class SymProperty(Property):\n",
    "    def __init__(self, line_str):\n",
    "        identifier = line_str.split()[self.idx['value']].split('=')[0] + '='\n",
    "        super().__init__(line_str, identifier)"
   ]
  },
  {
   "cell_type": "code",
   "execution_count": 621,
   "metadata": {},
   "outputs": [],
   "source": [
    "class Symbol:\n",
    "    pins = {}\n",
    "    boxes = []\n",
    "    sym_headers = ['K','|R','Y','U','b']\n",
    "    k_idx = {'name': 2}\n",
    "    d_idx = {'date': 1} # Date row indexes\n",
    "    u_idx = {'x': 1, 'y': 2, 'size': 3, 'rotation': 4, 'justification': 5, 'visible': 6, 'value': 7}\n",
    "    y_idx = {'value': 1}\n",
    "    vis_dict = {0: 'Hidden', 2: 'Hidden-wProperty', 3: 'Visible', 4: 'Visible-wProperty'}\n",
    "    sym_type = {0: 'Composite', 1: 'Module', 2: 'Pin', 4: 'Annotate', 5: 'Border'}\n",
    "    \n",
    "    def __init__(self):\n",
    "        pass\n",
    "        \n",
    "    def add_pin(self, pin):\n",
    "        self.pins[pin.Number.value] = pin\n",
    "        \n",
    "    def units_to_mils(unit):\n",
    "        return 100*unit/254000\n",
    "    \n",
    "    def parse_sym(self, line_str):\n",
    "        vals = line_str.split()\n",
    "        if vals[0] == 'K':\n",
    "            self.name = vals[self.k_idx['name']]\n",
    "        elif vals[0] == '|R':\n",
    "            self.save_date = vals[self.d_idx['date']]\n",
    "        elif vals[0] == 'Y':\n",
    "            self.symbol_type = self.sym_type[int(vals[self.y_idx['value']])]\n",
    "        elif vals[0] == 'U':\n",
    "            self.parse_property(line_str)\n",
    "        elif vals[0] == 'b':\n",
    "            self.boxes += [Box(line_str)]\n",
    "            \n",
    "    def parse_property(self, line_str):\n",
    "        sym_property = SymProperty(line_str)\n",
    "        if sym_property.property == 'DEVICE':\n",
    "            self.device = sym_property\n",
    "        elif sym_property.property == 'FORWARD_PCB':\n",
    "            self.forward = sym_property\n",
    "        elif sym_property.property == 'HETERO':\n",
    "            self.hetero = sym_property\n",
    "        elif sym_property.property == 'PKG_STYLE':\n",
    "            self.pkg_style = sym_property\n",
    "        elif sym_property.property == 'PKG_TYPE':\n",
    "            self.pkg_type = sym_property\n",
    "        elif sym_property.property == 'PLACE':\n",
    "            self.place = sym_property\n",
    "        elif sym_property.property == 'REFDES':\n",
    "            self.refdes = sym_property\n",
    "        elif sym_property.property == 'VALUE':\n",
    "            self.value = sym_property\n",
    "        elif sym_property.property == 'NAME_PLACEHOLDER':\n",
    "            self.name_placeholder = sym_property\n",
    "        \n",
    "    \n",
    "    def parse_pin(self, pin_str_list):\n",
    "        for line_str in pin_str_list:\n",
    "            if line_str.startswith('P '):\n",
    "                p = Pin(line_str)\n",
    "            elif line_str.startswith('L '):\n",
    "                p.set_name(PinName(line_str))\n",
    "            elif '#=' in line_str:\n",
    "                p.set_number(PinNumber(line_str))\n",
    "            elif 'PINTYPE=' in line_str:\n",
    "                p.set_type(PinType(line_str))\n",
    "                \n",
    "        self.add_pin(p)\n",
    "        return p"
   ]
  },
  {
   "cell_type": "code",
   "execution_count": 622,
   "metadata": {},
   "outputs": [],
   "source": [
    "def get_symbol(file_path):\n",
    "    sym = Symbol()\n",
    "    NEWPIN = False\n",
    "    prev_header = None\n",
    "    pin_cnt = 0\n",
    "    pin_list = []\n",
    "    pin_str_list = []\n",
    "\n",
    "    with open(file_path, 'r') as sym_file:\n",
    "        for l in sym_file:\n",
    "            if l.split()[0] in sym.sym_headers:\n",
    "                sym.parse_sym(l)\n",
    "            elif l.startswith('P '):\n",
    "                if pin_cnt > 0:\n",
    "                    pin_list += [sym.parse_pin(pin_str_list)]\n",
    "                NEWPIN = True\n",
    "                pin_str_list = [l] # Reset List on each new pin\n",
    "                pin_cnt += 1\n",
    "            elif NEWPIN:\n",
    "                pin_str_list += [l]\n",
    "                if pin_cnt > 0:\n",
    "                    pass\n",
    "                \n",
    "            if l.startswith('|GRPHSTL'):\n",
    "                pass # TODO: add graphic style and font to previous properties\n",
    "            prev_header = l.split()[0]\n",
    "    return sym"
   ]
  },
  {
   "cell_type": "code",
   "execution_count": 623,
   "metadata": {},
   "outputs": [],
   "source": [
    "sym = get_symbol(sym_files[0])"
   ]
  },
  {
   "cell_type": "code",
   "execution_count": 619,
   "metadata": {},
   "outputs": [],
   "source": [
    "# for p in pin_list:\n",
    "#     print('Name: {}, ID: {}, Number: {}, Type: {}, Side: {}, Inv: {}'.format(p.Name.value, p.pid, p.Number.value, p.Type.value, p.side, p.inverted))\n",
    "#     #print('Name: {}, Origin: {}, Side: {}, Rotation: {}'.format(p.name, p.value.txt_just, p.side, p.value.rotation))"
   ]
  },
  {
   "cell_type": "code",
   "execution_count": 620,
   "metadata": {},
   "outputs": [
    {
     "data": {
      "text/plain": [
       "'16:44:41_11-4-19'"
      ]
     },
     "execution_count": 620,
     "metadata": {},
     "output_type": "execute_result"
    }
   ],
   "source": [
    "sym.save_date"
   ]
  },
  {
   "cell_type": "code",
   "execution_count": 624,
   "metadata": {},
   "outputs": [
    {
     "data": {
      "text/plain": [
       "'Composite'"
      ]
     },
     "execution_count": 624,
     "metadata": {},
     "output_type": "execute_result"
    }
   ],
   "source": [
    "sym.symbol_type"
   ]
  },
  {
   "cell_type": "code",
   "execution_count": null,
   "metadata": {},
   "outputs": [],
   "source": []
  }
 ],
 "metadata": {
  "kernelspec": {
   "display_name": "Python 3",
   "language": "python",
   "name": "python3"
  },
  "language_info": {
   "codemirror_mode": {
    "name": "ipython",
    "version": 3
   },
   "file_extension": ".py",
   "mimetype": "text/x-python",
   "name": "python",
   "nbconvert_exporter": "python",
   "pygments_lexer": "ipython3",
   "version": "3.6.9"
  }
 },
 "nbformat": 4,
 "nbformat_minor": 2
}
