{
 "cells": [
  {
   "cell_type": "code",
   "execution_count": 6,
   "metadata": {},
   "outputs": [],
   "source": [
    "import pandas as pd\n",
    "import os\n",
    "\n",
    "sym_dir = 'Symbols'\n",
    "sym_files = [os.path.join(sym_dir, f) for f in os.listdir(sym_dir)]"
   ]
  },
  {
   "cell_type": "code",
   "execution_count": 451,
   "metadata": {},
   "outputs": [],
   "source": [
    "class PinProperty:\n",
    "    property_dict = {'PinName': '', 'PinNumber': '#=', 'PinType': 'PINTYPE='}\n",
    "    idx = {'x': 1, 'y': 2, 'size': 3, 'rotation': 4, 'justification': 5, 'visible': 6, 'value': 7}\n",
    "    just_dict = {1: 'Upper Left', 2: 'Middle Left', 3: 'Lower Left', 4: 'Upper Center', 5: 'Middle Center', 6: 'Lower Center', 7: 'Upper Right', 8: 'Middle Right', 9: 'Lower Right'}\n",
    "    rotation_dict = {0: '0', 1: '90', 2: '180', 3: '270'}\n",
    "    vis_dict = {0: 'Hidden', 2: 'Hidden-wProperty', 3: 'Visible', 4: 'Visible-wProperty'}\n",
    "    \n",
    "    def __init__(self, line_str, property_type):\n",
    "        vals = line_str.split()\n",
    "        p_typ = self.property_dict[property_type]\n",
    "        \n",
    "        self.x = int(vals[self.idx['x']])\n",
    "        self.y = int(vals[self.idx['y']])\n",
    "        self.size = int(vals[self.idx['size']])\n",
    "        self.rotation = self.rotation_dict[int(vals[self.idx['rotation']])]\n",
    "        self.justification = self.just_dict[int(vals[self.idx['justification']])]\n",
    "        self.visible = self.vis_dict[int(vals[self.idx['visible']])]\n",
    "        self.value = vals[self.idx['value']][len(p_typ):]"
   ]
  },
  {
   "cell_type": "code",
   "execution_count": 452,
   "metadata": {},
   "outputs": [],
   "source": [
    "class PinType(PinProperty):\n",
    "    def __init__(self, line_str):\n",
    "        super().__init__(line_str, type(self).__name__)\n",
    "        \n",
    "class PinNumber(PinProperty):\n",
    "    def __init__(self, line_str):\n",
    "        super().__init__(line_str, type(self).__name__)"
   ]
  },
  {
   "cell_type": "code",
   "execution_count": 453,
   "metadata": {},
   "outputs": [],
   "source": [
    "class PinName(PinProperty):\n",
    "    idx = {'x': 1, 'y': 2, 'size': 3, 'rotation': 4, 'justification': 5, 'visible': 7, 'value': 9} # Line row values to string index\n",
    "    vis_dict = {0: 'Hidden', 1: 'Visible'}\n",
    "    \n",
    "    def __init__(self, line_str):\n",
    "        super().__init__(line_str, type(self).__name__)"
   ]
  },
  {
   "cell_type": "code",
   "execution_count": 454,
   "metadata": {},
   "outputs": [],
   "source": [
    "# class PinName:\n",
    "#     def __init__(self, line_str):\n",
    "#         vals = line_str.split()\n",
    "        \n",
    "#         self.idx = {'x': 1, 'y': 2, 'size': 3, 'rotation': 4, 'justification': 5, 'visible': 7, 'name': 9} # Line row values to string index\n",
    "#         self.just_dict = {1: 'Upper Left', 2: 'Middle Left', 3: 'Lower Left', 4: 'Upper Center', 5: 'Middle Center', 6: 'Lower Center', 7: 'Upper Right', 8: 'Middle Right', 9: 'Lower Right'}\n",
    "#         self.rotation_dict = {0: '0', 1: '90', 2: '180', 3: '270'}\n",
    "#         self.vis_dict = {0: 'Hidden', 1: 'Visible'}\n",
    "        \n",
    "#         self.x = self.str_to_val(vals, 'x')\n",
    "#         self.y = self.str_to_val(vals, 'y')\n",
    "#         self.size = self.str_to_val(vals, 'size')\n",
    "#         self.rotation = self.str_to_val(vals, 'rotation', self.rotation_dict)\n",
    "#         self.justification = self.str_to_val(vals, 'justification', self.just_dict)\n",
    "#         self.visible = self.str_to_val(vals, 'visible', self.vis_dict)\n",
    "#         self.value = self.str_to_val(vals, 'name')\n",
    "        \n",
    "#     def str_to_val(self, vals, col, idx_dict=None):\n",
    "#         val = vals[self.idx[col]]\n",
    "#         if idx_dict != None:\n",
    "#             return idx_dict[int(val)]\n",
    "#         elif all([v.isnumeric() for v in val]): # All characters are numeric\n",
    "#             return int(val)\n",
    "#         return val            "
   ]
  },
  {
   "cell_type": "code",
   "execution_count": 455,
   "metadata": {},
   "outputs": [],
   "source": [
    "# class PinNumber:\n",
    "#     def __init__(self, line_str):\n",
    "#         vals = line_str.split()\n",
    "        \n",
    "#         self.idx = {'x': 1, 'y': 2, 'size': 3, 'rotation': 4, 'justification': 5, 'visible': 6, 'pin_number': 7}\n",
    "#         self.just_dict = {1: 'Upper Left', 2: 'Middle Left', 3: 'Lower Left', 4: 'Upper Center', 5: 'Middle Center', 6: 'Lower Center', 7: 'Upper Right', 8: 'Middle Right', 9: 'Lower Right'}\n",
    "#         self.rotation_dict = {0: '0', 1: '90', 2: '180', 3: '270'}\n",
    "#         self.vis_dict = {0: 'Hidden', 2: 'Hidden-wProperty', 3: 'Visible', 4: 'Visible-wProperty'}\n",
    "        \n",
    "#         self.x = int(vals[self.idx['x']])\n",
    "#         self.y = int(vals[self.idx['y']])\n",
    "#         self.size = int(vals[self.idx['size']])\n",
    "#         self.rotation = self.rotation_dict[int(vals[self.idx['rotation']])]\n",
    "#         self.justification = self.just_dict[int(vals[self.idx['justification']])]\n",
    "#         self.visible = self.vis_dict[int(vals[self.idx['visible']])]\n",
    "#         self.value = vals[self.idx['pin_number']][len('#='):]"
   ]
  },
  {
   "cell_type": "code",
   "execution_count": 456,
   "metadata": {},
   "outputs": [],
   "source": [
    "# class PinType:\n",
    "#     def __init__(self, line_str):\n",
    "#         vals = line_str.split()\n",
    "        \n",
    "#         self.idx = {'x': 1, 'y': 2, 'size': 3, 'rotation': 4, 'justification': 5, 'visible': 6, 'pin_type': 7}\n",
    "#         self.just_dict = {1: 'Upper Left', 2: 'Middle Left', 3: 'Lower Left', 4: 'Upper Center', 5: 'Middle Center', 6: 'Lower Center', 7: 'Upper Right', 8: 'Middle Right', 9: 'Lower Right'}\n",
    "#         self.rotation_dict = {0: '0', 1: '90', 2: '180', 3: '270'}\n",
    "#         self.vis_dict = {0: 'Hidden', 2: 'Hidden-wProperty', 3: 'Visible', 4: 'Visible-wProperty'}\n",
    "        \n",
    "#         self.x = int(vals[self.idx['x']])\n",
    "#         self.y = int(vals[self.idx['y']])\n",
    "#         self.size = int(vals[self.idx['size']])\n",
    "#         self.rotation = self.rotation_dict[int(vals[self.idx['rotation']])]\n",
    "#         self.justification = self.just_dict[int(vals[self.idx['justification']])]\n",
    "#         self.visible = self.vis_dict[int(vals[self.idx['visible']])]\n",
    "#         self.value = vals[self.idx['pin_type']][len('PINTYPE='):]"
   ]
  },
  {
   "cell_type": "code",
   "execution_count": 467,
   "metadata": {},
   "outputs": [],
   "source": [
    "class Pin:\n",
    "    idx = {'id': 1, 'x1': 2, 'y1': 3, 'x2': 4, 'y2': 5, 'side': 7, 'inverted': 8} # Pin row to string index\n",
    "    side_dict = {2: 'Left', 3: 'Right'}\n",
    "    \n",
    "    def __init__(self, line_str):\n",
    "        vals = line_str.split()\n",
    "        \n",
    "        self.pid = vals[self.idx['id']]\n",
    "        self.set_line_pos(vals[self.idx['x1']], vals[self.idx['x2']], vals[self.idx['y1']], vals[self.idx['y2']])\n",
    "        self.side = self.side_dict[int(vals[self.idx['side']])]\n",
    "        self.inverted = bool(int(vals[self.idx['inverted']]))\n",
    "    \n",
    "    # number: PinNumber Object\n",
    "    def set_number(self, number):\n",
    "        self.Number = number\n",
    "    \n",
    "    # ptype: PinType Object\n",
    "    def set_type(self, ptype):\n",
    "        self.Type = ptype\n",
    "        \n",
    "    def set_line_pos(self, x1, x2, y1, y2):\n",
    "        self.line_pos = (int(x1), int(x2), int(y1), int(y2))\n",
    "        \n",
    "    # name: PinName Object\n",
    "    def set_name(self, name):\n",
    "        self.Name = name"
   ]
  },
  {
   "cell_type": "code",
   "execution_count": 468,
   "metadata": {},
   "outputs": [],
   "source": [
    "class Symbol:\n",
    "    def __init__(self):\n",
    "        pass\n",
    "    \n",
    "    def set_name(self, name):\n",
    "        self.name = name\n",
    "        \n",
    "    def set_date(self, date):\n",
    "        self.date = date\n",
    "        \n",
    "    def units_to_mils(unit):\n",
    "        return 100*unit/254000\n",
    "    \n",
    "    def parse_pin(self, pin_str_list):\n",
    "        for line_str in pin_str_list:\n",
    "            if line_str.startswith('P '):\n",
    "                p = Pin(line_str)\n",
    "            elif line_str.startswith('L '):\n",
    "                p.set_name(PinName(line_str))\n",
    "            elif '#=' in line_str:\n",
    "                p.set_number(PinNumber(line_str))\n",
    "            elif 'PINTYPE=' in line_str:\n",
    "                p.set_type(PinType(line_str))\n",
    "        return p"
   ]
  },
  {
   "cell_type": "code",
   "execution_count": 469,
   "metadata": {},
   "outputs": [],
   "source": [
    "def get_symbol(file_path):\n",
    "    sym = Symbol()\n",
    "    NEWPIN = False\n",
    "    pin_cnt = 0\n",
    "    pin_list = []\n",
    "    pin_str_list = []\n",
    "\n",
    "    with open(file_path, 'r') as sym_file:\n",
    "        for l in sym_file:\n",
    "            if l.startswith('K '):\n",
    "                sym.set_name(l.split()[-1])\n",
    "            elif l.startswith('|R '):\n",
    "                sym.set_date(l.split()[-1])\n",
    "            elif l.startswith('P '):\n",
    "                if pin_cnt > 0:\n",
    "                    pin_list += [sym.parse_pin(pin_str_list)]\n",
    "                NEWPIN = True\n",
    "                pin_str_list = [l] # Reset List on each new pin\n",
    "                pin_cnt += 1\n",
    "            elif NEWPIN:\n",
    "                pin_str_list += [l]\n",
    "                if pin_cnt > 0:\n",
    "                    pass\n",
    "    return pin_list"
   ]
  },
  {
   "cell_type": "code",
   "execution_count": 470,
   "metadata": {},
   "outputs": [],
   "source": [
    "pin_list = get_symbol(sym_files[0])"
   ]
  },
  {
   "cell_type": "code",
   "execution_count": 471,
   "metadata": {},
   "outputs": [
    {
     "name": "stdout",
     "output_type": "stream",
     "text": [
      "Name: CLK_N, ID: 364, Number: 28, Type: IN, Side: Left, Inv: True\n",
      "Name: CLK_P, ID: 488, Number: 27, Type: IN, Side: Left, Inv: False\n",
      "Name: DB1_N, ID: 512, Number: 68, Type: OUT, Side: Right, Inv: True\n",
      "Name: DB1_P, ID: 520, Number: 69, Type: OUT, Side: Right, Inv: False\n",
      "Name: DB2_N, ID: 528, Number: 71, Type: OUT, Side: Right, Inv: True\n",
      "Name: DB2_P, ID: 536, Number: 72, Type: OUT, Side: Right, Inv: False\n",
      "Name: DB3_N, ID: 544, Number: 1, Type: OUT, Side: Right, Inv: True\n",
      "Name: DB3_P, ID: 552, Number: 2, Type: OUT, Side: Right, Inv: False\n",
      "Name: DA0_N, ID: 560, Number: 62, Type: OUT, Side: Right, Inv: True\n",
      "Name: DA0_P, ID: 568, Number: 61, Type: OUT, Side: Right, Inv: False\n",
      "Name: DA1_N, ID: 576, Number: 59, Type: OUT, Side: Right, Inv: True\n",
      "Name: DA1_P, ID: 584, Number: 58, Type: OUT, Side: Right, Inv: False\n",
      "Name: DA2_N, ID: 592, Number: 56, Type: OUT, Side: Right, Inv: True\n",
      "Name: DA2_P, ID: 600, Number: 55, Type: OUT, Side: Right, Inv: False\n",
      "Name: DA3_N, ID: 608, Number: 54, Type: OUT, Side: Right, Inv: True\n",
      "Name: DA3_P, ID: 616, Number: 53, Type: OUT, Side: Right, Inv: False\n",
      "Name: INA_N, ID: 648, Number: 41, Type: ANALOG, Side: Left, Inv: True\n",
      "Name: INA_P, ID: 656, Number: 42, Type: ANALOG, Side: Left, Inv: False\n",
      "Name: SDOUT, ID: 692, Number: 11, Type: OUT, Side: Right, Inv: False\n",
      "Name: RESET, ID: 708, Number: 48, Type: IN, Side: Left, Inv: False\n",
      "Name: SCLK, ID: 716, Number: 6, Type: IN, Side: Left, Inv: False\n",
      "Name: SDIN, ID: 724, Number: 5, Type: IN, Side: Left, Inv: False\n",
      "Name: SEN_N, ID: 732, Number: 7, Type: IN, Side: Left, Inv: True\n",
      "Name: VCM, ID: 740, Number: 22, Type: ANALOG, Side: Left, Inv: False\n",
      "Name: SYSREF_N, ID: 836, Number: 34, Type: IN, Side: Left, Inv: True\n",
      "Name: SYSREF_P, ID: 837, Number: 33, Type: IN, Side: Left, Inv: False\n",
      "Name: PDN/OVR, ID: 852, Number: 50, Type: BI, Side: Left, Inv: False\n",
      "Name: DB0_P, ID: 868, Number: 66, Type: OUT, Side: Right, Inv: False\n",
      "Name: DB0_N, ID: 876, Number: 65, Type: OUT, Side: Right, Inv: True\n",
      "Name: SYNC_N, ID: 884, Number: 63, Type: IN, Side: Left, Inv: True\n",
      "Name: INB_N, ID: 892, Number: 14, Type: ANALOG, Side: Left, Inv: True\n"
     ]
    }
   ],
   "source": [
    "for p in pin_list:\n",
    "    print('Name: {}, ID: {}, Number: {}, Type: {}, Side: {}, Inv: {}'.format(p.Name.value, p.pid, p.Number.value, p.Type.value, p.side, p.inverted))\n",
    "    #print('Name: {}, Origin: {}, Side: {}, Rotation: {}'.format(p.name, p.value.txt_just, p.side, p.value.rotation))"
   ]
  },
  {
   "cell_type": "code",
   "execution_count": null,
   "metadata": {},
   "outputs": [],
   "source": []
  }
 ],
 "metadata": {
  "kernelspec": {
   "display_name": "Python 3",
   "language": "python",
   "name": "python3"
  },
  "language_info": {
   "codemirror_mode": {
    "name": "ipython",
    "version": 3
   },
   "file_extension": ".py",
   "mimetype": "text/x-python",
   "name": "python",
   "nbconvert_exporter": "python",
   "pygments_lexer": "ipython3",
   "version": "3.6.9"
  }
 },
 "nbformat": 4,
 "nbformat_minor": 2
}
