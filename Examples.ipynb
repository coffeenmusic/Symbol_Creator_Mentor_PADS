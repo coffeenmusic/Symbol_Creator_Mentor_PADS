{
 "cells": [
  {
   "cell_type": "code",
   "execution_count": 3,
   "metadata": {},
   "outputs": [],
   "source": [
    "import pandas as pd\n",
    "import os\n",
    "from sym_creator import Symbol_Creator"
   ]
  },
  {
   "cell_type": "code",
   "execution_count": 4,
   "metadata": {},
   "outputs": [],
   "source": [
    "out_dir = 'Created'\n",
    "symbol_name = 'test_symbol'"
   ]
  },
  {
   "cell_type": "markdown",
   "metadata": {},
   "source": [
    "# Create symbol from CSV"
   ]
  },
  {
   "cell_type": "code",
   "execution_count": 7,
   "metadata": {},
   "outputs": [],
   "source": [
    "csv_file = 'import_example.csv'"
   ]
  },
  {
   "cell_type": "code",
   "execution_count": 8,
   "metadata": {},
   "outputs": [
    {
     "name": "stdout",
     "output_type": "stream",
     "text": [
      "Symbol Size: 1200x2800.0 [mils]\n",
      "Hetero property not set.\n"
     ]
    },
    {
     "name": "stderr",
     "output_type": "stream",
     "text": [
      "C:\\Users\\stephen.thompson\\Documents\\Python Projects\\Symbol_Reader\\sym_creator.py:389: ParserWarning: Falling back to the 'python' engine because the 'c' engine does not support regex separators (separators > 1 char and different from '\\s+' are interpreted as regex); you can avoid this warning by specifying engine='python'.\n",
      "  df = pd.read_csv(csv_file, sep='[,;]')\n"
     ]
    }
   ],
   "source": [
    "creator = Symbol_Creator(out_dir=out_dir, out_symbol_name='export')\n",
    "creator.symbol_from_csv(csv_file)\n",
    "creator.export_symbol()"
   ]
  },
  {
   "cell_type": "markdown",
   "metadata": {},
   "source": [
    "# Import Symbol"
   ]
  },
  {
   "cell_type": "code",
   "execution_count": 3,
   "metadata": {},
   "outputs": [],
   "source": [
    "sym_dir = 'Symbols'\n",
    "sym_files = [os.path.join(sym_dir, f) for f in os.listdir(sym_dir)]"
   ]
  },
  {
   "cell_type": "code",
   "execution_count": 7,
   "metadata": {},
   "outputs": [
    {
     "name": "stdout",
     "output_type": "stream",
     "text": [
      "Symbols\\lmh5401-qfn14.1\n",
      "Hetero property not set.\n"
     ]
    }
   ],
   "source": [
    "file = sym_files[3]\n",
    "print(file)\n",
    "\n",
    "creator = Symbol_Creator(out_dir=out_dir, out_symbol_name='24aa02e48-d8_created')\n",
    "creator.import_symbol(file)\n",
    "creator.export_symbol()"
   ]
  },
  {
   "cell_type": "code",
   "execution_count": null,
   "metadata": {},
   "outputs": [],
   "source": []
  }
 ],
 "metadata": {
  "kernelspec": {
   "display_name": "Python 3",
   "language": "python",
   "name": "python3"
  },
  "language_info": {
   "codemirror_mode": {
    "name": "ipython",
    "version": 3
   },
   "file_extension": ".py",
   "mimetype": "text/x-python",
   "name": "python",
   "nbconvert_exporter": "python",
   "pygments_lexer": "ipython3",
   "version": "3.6.9"
  }
 },
 "nbformat": 4,
 "nbformat_minor": 2
}
